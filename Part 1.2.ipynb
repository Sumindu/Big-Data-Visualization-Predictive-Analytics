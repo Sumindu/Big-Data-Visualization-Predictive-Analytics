{
 "cells": [
  {
   "cell_type": "code",
   "execution_count": 2,
   "id": "a9af0af2-0ae8-49d2-9d9c-81b0a64d6a0e",
   "metadata": {},
   "outputs": [
    {
     "name": "stdout",
     "output_type": "stream",
     "text": [
      "+-------+------+-------+-------+----------+------------+-------------------+-------------------+--------------+\n",
      "|holiday|  temp|rain_1h|snow_1h|clouds_all|weather_main|weather_description|          date_time|traffic_volume|\n",
      "+-------+------+-------+-------+----------+------------+-------------------+-------------------+--------------+\n",
      "|   None|288.28|    0.0|    0.0|        40|      Clouds|   scattered clouds|2012-10-02 09:00:00|          5545|\n",
      "|   None|289.36|    0.0|    0.0|        75|      Clouds|      broken clouds|2012-10-02 10:00:00|          4516|\n",
      "|   None|289.58|    0.0|    0.0|        90|      Clouds|    overcast clouds|2012-10-02 11:00:00|          4767|\n",
      "|   None|290.13|    0.0|    0.0|        90|      Clouds|    overcast clouds|2012-10-02 12:00:00|          5026|\n",
      "|   None|291.14|    0.0|    0.0|        75|      Clouds|      broken clouds|2012-10-02 13:00:00|          4918|\n",
      "|   None|291.72|    0.0|    0.0|         1|       Clear|       sky is clear|2012-10-02 14:00:00|          5181|\n",
      "|   None|293.17|    0.0|    0.0|         1|       Clear|       sky is clear|2012-10-02 15:00:00|          5584|\n",
      "|   None|293.86|    0.0|    0.0|         1|       Clear|       sky is clear|2012-10-02 16:00:00|          6015|\n",
      "|   None|294.14|    0.0|    0.0|        20|      Clouds|         few clouds|2012-10-02 17:00:00|          5791|\n",
      "|   None| 293.1|    0.0|    0.0|        20|      Clouds|         few clouds|2012-10-02 18:00:00|          4770|\n",
      "|   None|290.97|    0.0|    0.0|        20|      Clouds|         few clouds|2012-10-02 19:00:00|          3539|\n",
      "|   None|289.38|    0.0|    0.0|         1|       Clear|       sky is clear|2012-10-02 20:00:00|          2784|\n",
      "|   None|288.61|    0.0|    0.0|         1|       Clear|       sky is clear|2012-10-02 21:00:00|          2361|\n",
      "|   None|287.16|    0.0|    0.0|         1|       Clear|       sky is clear|2012-10-02 22:00:00|          1529|\n",
      "|   None|285.45|    0.0|    0.0|         1|       Clear|       sky is clear|2012-10-02 23:00:00|           963|\n",
      "|   None|284.63|    0.0|    0.0|         1|       Clear|       sky is clear|2012-10-03 00:00:00|           506|\n",
      "|   None|283.47|    0.0|    0.0|         1|       Clear|       sky is clear|2012-10-03 01:00:00|           321|\n",
      "|   None|281.18|    0.0|    0.0|         1|       Clear|       sky is clear|2012-10-03 02:00:00|           273|\n",
      "|   None|281.09|    0.0|    0.0|         1|       Clear|       sky is clear|2012-10-03 03:00:00|           367|\n",
      "|   None|279.53|    0.0|    0.0|         1|       Clear|       sky is clear|2012-10-03 04:00:00|           814|\n",
      "+-------+------+-------+-------+----------+------------+-------------------+-------------------+--------------+\n",
      "only showing top 20 rows\n",
      "\n",
      "root\n",
      " |-- holiday: string (nullable = true)\n",
      " |-- temp: double (nullable = true)\n",
      " |-- rain_1h: double (nullable = true)\n",
      " |-- snow_1h: double (nullable = true)\n",
      " |-- clouds_all: integer (nullable = true)\n",
      " |-- weather_main: string (nullable = true)\n",
      " |-- weather_description: string (nullable = true)\n",
      " |-- date_time: timestamp (nullable = true)\n",
      " |-- traffic_volume: integer (nullable = true)\n",
      "\n",
      "Null Counts Per Column\n",
      "+-------+----+-------+-------+----------+------------+-------------------+---------+--------------+\n",
      "|holiday|temp|rain_1h|snow_1h|clouds_all|weather_main|weather_description|date_time|traffic_volume|\n",
      "+-------+----+-------+-------+----------+------------+-------------------+---------+--------------+\n",
      "|      0|   0|      0|      0|         0|           0|                  0|        0|             0|\n",
      "+-------+----+-------+-------+----------+------------+-------------------+---------+--------------+\n",
      "\n",
      "Describe the dataset\n",
      "+-------+------------------+-------------------+--------------------+-----------------+------------------+\n",
      "|summary|              temp|            rain_1h|             snow_1h|       clouds_all|    traffic_volume|\n",
      "+-------+------------------+-------------------+--------------------+-----------------+------------------+\n",
      "|  count|             48204|              48204|               48204|            48204|             48204|\n",
      "|   mean| 281.2058703012135|0.33426396149697535|2.223881835532321...|49.36223135009543|3259.8183553232097|\n",
      "| stddev|13.338231912676308|  44.78913303693933|0.008167611205361601|39.01575046141368|1986.8606704463612|\n",
      "|    min|               0.0|                0.0|                 0.0|                0|                 0|\n",
      "|    max|            310.07|             9831.3|                0.51|              100|              7280|\n",
      "+-------+------------------+-------------------+--------------------+-----------------+------------------+\n",
      "\n"
     ]
    }
   ],
   "source": [
    "from pyspark.sql import SparkSession\n",
    "from pyspark.sql.functions import col, sum\n",
    "\n",
    "spark = SparkSession.builder.appName(\"ReadAndDescribe\").getOrCreate()\n",
    "\n",
    "# Replace 'your_file.csv' with the actual path to your dataset\n",
    "file_path = 'Desktop/big data visualization/dataset/Metro_Interstate_Traffic_Volume.csv'\n",
    "\n",
    "# Infer schema automatically\n",
    "df = spark.read.csv(file_path, header=True, inferSchema=True)\n",
    "\n",
    "df.show(20)\n",
    "\n",
    "# Print the schema\n",
    "df.printSchema()\n",
    "\n",
    "# print null or missing values\n",
    "print(\"Null Counts Per Column\")\n",
    "df.select([sum(col(c).isNull().cast(\"int\")).alias(c) for c in df.columns]).show()\n",
    "\n",
    "# Describe the dataset\n",
    "print(\"Describe the dataset\")\n",
    "df.select('temp','rain_1h','snow_1h','clouds_all','date_time','traffic_volume').describe().show()\n"
   ]
  },
  {
   "cell_type": "code",
   "execution_count": null,
   "id": "4ec18202-e80b-4f02-8ada-e95811d3da17",
   "metadata": {},
   "outputs": [],
   "source": []
  }
 ],
 "metadata": {
  "kernelspec": {
   "display_name": "Python 3 (ipykernel)",
   "language": "python",
   "name": "python3"
  },
  "language_info": {
   "codemirror_mode": {
    "name": "ipython",
    "version": 3
   },
   "file_extension": ".py",
   "mimetype": "text/x-python",
   "name": "python",
   "nbconvert_exporter": "python",
   "pygments_lexer": "ipython3",
   "version": "3.12.7"
  }
 },
 "nbformat": 4,
 "nbformat_minor": 5
}
