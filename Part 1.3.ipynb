{
  "nbformat": 4,
  "nbformat_minor": 0,
  "metadata": {
    "colab": {
      "provenance": []
    },
    "kernelspec": {
      "name": "python3",
      "display_name": "Python 3"
    },
    "language_info": {
      "name": "python"
    }
  },
  "cells": [
    {
      "cell_type": "code",
      "execution_count": 1,
      "metadata": {
        "colab": {
          "base_uri": "https://localhost:8080/"
        },
        "id": "5xYX9f3T3C6s",
        "outputId": "63d6ac8c-d922-42f3-9eff-45ad8ffd27a9"
      },
      "outputs": [
        {
          "output_type": "stream",
          "name": "stdout",
          "text": [
            "+-------------------+---------+--------------+-------------------------------------------------+-------------------+\n",
            "|Column Name        |Data Type|Missing Values|Purpose                                          |Unique Values/Range|\n",
            "+-------------------+---------+--------------+-------------------------------------------------+-------------------+\n",
            "|holiday            |string   |0             |Indicates if the day is a holiday.               |12                 |\n",
            "|temp               |double   |0             |Temperature in Kelvin.                           |5843               |\n",
            "|rain_1h            |double   |0             |Amount of rainfall in the last hour.             |372                |\n",
            "|snow_1h            |double   |0             |Amount of snow in the last hour.                 |12                 |\n",
            "|clouds_all         |int      |0             |Percentage of cloud coverage.                    |60                 |\n",
            "|weather_main       |string   |0             |Main weather condition (e.g., clear, rain, etc.).|11                 |\n",
            "|weather_description|string   |0             |Detailed description of the weather condition.   |38                 |\n",
            "|date_time          |string   |0             |Timestamp for the data entry.                    |40575              |\n",
            "|traffic_volume     |int      |0             |Traffic volume recorded at the time.             |6704               |\n",
            "+-------------------+---------+--------------+-------------------------------------------------+-------------------+\n",
            "\n"
          ]
        }
      ],
      "source": [
        "from pyspark.sql import SparkSession\n",
        "from pyspark.sql.types import StructType, StructField, StringType, DoubleType, IntegerType\n",
        "\n",
        "# Initialize a Spark session with increased timeout settings\n",
        "spark = SparkSession.builder \\\n",
        "    .appName(\"Meta Data Table\") \\\n",
        "    .getOrCreate() # Fixed: Removed extra indent\n",
        "\n",
        "file_path = '/content/Metro_Interstate_Traffic_Volume.csv'\n",
        "df = spark.read.csv(file_path, header=True, inferSchema=True)\n",
        "\n",
        "# Define the meta-data\n",
        "meta_data = [\n",
        "    (\"holiday\", \"string\", \"0\", \"Indicates if the day is a holiday.\", \"12\"),\n",
        "    (\"temp\", \"double\", \"0\", \"Temperature in Kelvin.\", \"5843\"),\n",
        "    (\"rain_1h\", \"double\", \"0\", \"Amount of rainfall in the last hour.\", \"372\"),\n",
        "    (\"snow_1h\", \"double\", \"0\", \"Amount of snow in the last hour.\", \"12\"),\n",
        "    (\"clouds_all\", \"int\", \"0\", \"Percentage of cloud coverage.\", \"60\"),\n",
        "    (\"weather_main\", \"string\", \"0\", \"Main weather condition (e.g., clear, rain, etc.).\", \"11\"),\n",
        "    (\"weather_description\", \"string\", \"0\", \"Detailed description of the weather condition.\", \"38\"),\n",
        "    (\"date_time\", \"string\", \"0\", \"Timestamp for the data entry.\", \"40575\"),\n",
        "    (\"traffic_volume\", \"int\", \"0\", \"Traffic volume recorded at the time.\", \"6704\")\n",
        "]\n",
        "\n",
        "# Define the schema\n",
        "schema = StructType([\n",
        "    StructField(\"Column Name\", StringType(), True),\n",
        "    StructField(\"Data Type\", StringType(), True),\n",
        "    StructField(\"Missing Values\", StringType(), True),\n",
        "    StructField(\"Purpose\", StringType(), True),\n",
        "    StructField(\"Unique Values/Range\", StringType(), True)\n",
        "])\n",
        "\n",
        "# Create the DataFrame\n",
        "meta_data_df = spark.createDataFrame(meta_data, schema=schema)\n",
        "\n",
        "# Display the meta-data DataFrame\n",
        "meta_data_df.show(truncate=False)\n",
        "\n",
        "# Stop the Spark session\n",
        "spark.stop()"
      ]
    }
  ]
}