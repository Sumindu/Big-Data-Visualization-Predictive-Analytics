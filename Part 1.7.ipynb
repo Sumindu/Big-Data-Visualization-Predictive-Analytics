{
 "cells": [
  {
   "cell_type": "code",
   "execution_count": 2,
   "id": "ef1b827c-7fe6-42bf-baad-0248214643b0",
   "metadata": {},
   "outputs": [
    {
     "name": "stdout",
     "output_type": "stream",
     "text": [
      "Correlation of variables with target variable 'traffic_volume':\n",
      "  temp -> 0.13016125864724376\n",
      "  rain_1h -> 0.004715063474143712\n",
      "  snow_1h -> 0.0007362736333018482\n",
      "  clouds_all -> 0.06713824212718938\n",
      "  weather_main_index -> -0.06434208681796647\n",
      "  holiday_index -> -0.038052944948577076\n",
      "  weather_description_index -> 0.02133532399898842\n"
     ]
    }
   ],
   "source": [
    "from pyspark.sql import SparkSession\n",
    "from pyspark.sql.functions import col\n",
    "\n",
    "# Step 1: Create a Spark session\n",
    "spark = SparkSession.builder \\\n",
    "    .appName(\"Correlation with Target Variable\") \\\n",
    "    .getOrCreate()\n",
    "\n",
    "# Step 2: Load the dataset\n",
    "file_path = \"Desktop/big data visualization/dataset/cleaned_transformed_dataset3.csv\"\n",
    "data = spark.read.csv(file_path, header=True, inferSchema=True)\n",
    "\n",
    "# Step 3: Identify numeric columns\n",
    "numeric_columns = [column for column, dtype in data.dtypes if dtype in ('int', 'double','float')]\n",
    "\n",
    "\n",
    "# Specify the target variable\n",
    "target_variable = 'traffic_volume'\n",
    "\n",
    "# Step 4: Calculate correlation\n",
    "if target_variable in numeric_columns:\n",
    "    numeric_columns.remove(target_variable)\n",
    "\n",
    "print(f\"Correlation of variables with target variable '{target_variable}':\")\n",
    "for column in numeric_columns:\n",
    "    correlation = data.stat.corr(column, target_variable)\n",
    "    print(f\"  {column} -> {correlation}\")\n",
    "\n",
    "\n",
    "# Step 5: Stop the Spark session\n",
    "spark.stop()\n"
   ]
  },
  {
   "cell_type": "code",
   "execution_count": null,
   "id": "68d37167-8dd8-447b-a3e5-2ad35fba3eca",
   "metadata": {},
   "outputs": [],
   "source": []
  }
 ],
 "metadata": {
  "kernelspec": {
   "display_name": "Python 3 (ipykernel)",
   "language": "python",
   "name": "python3"
  },
  "language_info": {
   "codemirror_mode": {
    "name": "ipython",
    "version": 3
   },
   "file_extension": ".py",
   "mimetype": "text/x-python",
   "name": "python",
   "nbconvert_exporter": "python",
   "pygments_lexer": "ipython3",
   "version": "3.12.7"
  }
 },
 "nbformat": 4,
 "nbformat_minor": 5
}
